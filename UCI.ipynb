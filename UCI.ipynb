{
 "cells": [
  {
   "cell_type": "code",
   "execution_count": 30,
   "metadata": {},
   "outputs": [],
   "source": [
    "import torch\n",
    "import torch.nn as nn\n",
    "import numpy as np\n",
    "import GPy\n",
    "import matplotlib.pyplot as plt\n",
    "from BNN_Dropout import BNN_Dropout\n",
    "from pybnn import bohamiann\n",
    "from torch.utils.data import TensorDataset, DataLoader\n",
    "\n",
    "import sys\n",
    "sys.path.insert(0, './ref/DropoutUncertaintyExps/net/')\n",
    "from net import net"
   ]
  },
  {
   "cell_type": "code",
   "execution_count": 31,
   "metadata": {},
   "outputs": [],
   "source": [
    "dataset_name = 'concrete'\n",
    "dataset_dir      = 'UCI_Datasets/' + dataset_name + \"/data/\"\n",
    "data = torch.from_numpy(np.loadtxt(dataset_dir + \"data.txt\"))\n",
    "\n",
    "feature_id = np.loadtxt(dataset_dir + \"index_features.txt\", dtype=int)\n",
    "target_id   = np.loadtxt(dataset_dir + \"index_target.txt\", dtype = int)\n",
    "\n",
    "xs = data[:,feature_id]\n",
    "ys = data[:,target_id][:,None]\n",
    "\n",
    "split_id = 19\n",
    "\n",
    "train_id = np.loadtxt(dataset_dir + \"index_train_{}\".format(split_id) + \".txt\", dtype = int)\n",
    "test_id = np.loadtxt(dataset_dir + \"index_test_{}\".format(split_id) + \".txt\", dtype = int)\n",
    "\n",
    "train_x = xs[train_id]\n",
    "train_y = ys[train_id]\n",
    "test_x   = xs[test_id]\n",
    "test_y   = ys[test_id]\n",
    "\n",
    "dim = train_x.shape[1]\n",
    "\n",
    "normalize = True\n",
    "if normalize:\n",
    "    x_mean = train_x.mean(dim = 0)\n",
    "    x_std     = train_x.std(dim = 0)\n",
    "    train_x   = (train_x - x_mean) / x_std\n",
    "    test_x     = (test_x  - x_mean) / x_std"
   ]
  },
  {
   "cell_type": "code",
   "execution_count": 32,
   "metadata": {},
   "outputs": [
    {
     "name": "stdout",
     "output_type": "stream",
     "text": [
      "After 50 epochs, loss is 0.311087\n",
      "After 100 epochs, loss is 0.30405\n",
      "After 150 epochs, loss is 0.258391\n",
      "After 200 epochs, loss is 0.260984\n",
      "After 250 epochs, loss is 0.237414\n",
      "After 300 epochs, loss is 0.229646\n",
      "After 350 epochs, loss is 0.208887\n",
      "After 400 epochs, loss is 0.230595\n",
      "After 450 epochs, loss is 0.217613\n",
      "After 500 epochs, loss is 0.216062\n",
      "After 550 epochs, loss is 0.20803\n",
      "After 600 epochs, loss is 0.210568\n",
      "After 650 epochs, loss is 0.21966\n",
      "After 700 epochs, loss is 0.201627\n",
      "After 750 epochs, loss is 0.165509\n",
      "After 800 epochs, loss is 0.209393\n",
      "After 850 epochs, loss is 0.173442\n",
      "After 900 epochs, loss is 0.210724\n",
      "After 950 epochs, loss is 0.193592\n",
      "After 1000 epochs, loss is 0.201755\n",
      "After 1050 epochs, loss is 0.187176\n",
      "After 1100 epochs, loss is 0.184009\n",
      "After 1150 epochs, loss is 0.201121\n",
      "After 1200 epochs, loss is 0.224467\n",
      "After 1250 epochs, loss is 0.225455\n",
      "After 1300 epochs, loss is 0.225241\n",
      "After 1350 epochs, loss is 0.201759\n",
      "After 1400 epochs, loss is 0.185831\n",
      "After 1450 epochs, loss is 0.185237\n",
      "After 1500 epochs, loss is 0.210017\n",
      "After 1550 epochs, loss is 0.18427\n",
      "After 1600 epochs, loss is 0.184818\n",
      "After 1650 epochs, loss is 0.181473\n",
      "After 1700 epochs, loss is 0.198412\n",
      "After 1750 epochs, loss is 0.186409\n",
      "After 1800 epochs, loss is 0.208234\n",
      "After 1850 epochs, loss is 0.200637\n",
      "After 1900 epochs, loss is 0.205838\n",
      "After 1950 epochs, loss is 0.217833\n",
      "After 2000 epochs, loss is 0.218973\n",
      "After 2050 epochs, loss is 0.203422\n",
      "After 2100 epochs, loss is 0.210514\n",
      "After 2150 epochs, loss is 0.182919\n",
      "After 2200 epochs, loss is 0.204453\n",
      "After 2250 epochs, loss is 0.200342\n",
      "After 2300 epochs, loss is 0.201218\n",
      "After 2350 epochs, loss is 0.213755\n",
      "After 2400 epochs, loss is 0.200307\n",
      "RMSE is 6.28605\n",
      "RMSE is 7.65997\n"
     ]
    },
    {
     "ename": "TypeError",
     "evalue": "validate() got an unexpected keyword argument 'n_samples'",
     "output_type": "error",
     "traceback": [
      "\u001b[0;31m---------------------------------------------------------------------------\u001b[0m",
      "\u001b[0;31mTypeError\u001b[0m                                 Traceback (most recent call last)",
      "\u001b[0;32m<ipython-input-32-d8177346c13a>\u001b[0m in \u001b[0;36m<module>\u001b[0;34m()\u001b[0m\n\u001b[1;32m     12\u001b[0m \u001b[0mprint\u001b[0m\u001b[0;34m(\u001b[0m\u001b[0;34m'RMSE is %g'\u001b[0m \u001b[0;34m%\u001b[0m \u001b[0mrmse_train\u001b[0m\u001b[0;34m)\u001b[0m\u001b[0;34m\u001b[0m\u001b[0m\n\u001b[1;32m     13\u001b[0m \u001b[0mprint\u001b[0m\u001b[0;34m(\u001b[0m\u001b[0;34m'RMSE is %g'\u001b[0m \u001b[0;34m%\u001b[0m \u001b[0mrmse_test\u001b[0m\u001b[0;34m)\u001b[0m\u001b[0;34m\u001b[0m\u001b[0m\n\u001b[0;32m---> 14\u001b[0;31m \u001b[0mmodel\u001b[0m\u001b[0;34m.\u001b[0m\u001b[0mvalidate\u001b[0m\u001b[0;34m(\u001b[0m\u001b[0mtest_x\u001b[0m\u001b[0;34m,\u001b[0m \u001b[0mtest_y\u001b[0m\u001b[0;34m,\u001b[0m \u001b[0mn_samples\u001b[0m \u001b[0;34m=\u001b[0m \u001b[0;36m100\u001b[0m\u001b[0;34m)\u001b[0m\u001b[0;34m\u001b[0m\u001b[0m\n\u001b[0m",
      "\u001b[0;31mTypeError\u001b[0m: validate() got an unexpected keyword argument 'n_samples'"
     ]
    }
   ],
   "source": [
    "conf = dict()\n",
    "conf['num_epochs'] = 2400\n",
    "conf['batch_size'] = 32\n",
    "conf['lr'] = 1e-3\n",
    "conf['print_every'] = 50\n",
    "conf['dropout_rate'] = 0.15\n",
    "conf['tau'] = 0.025\n",
    "model = BNN_Dropout(dim = dim, act = nn.ReLU(), conf=conf)\n",
    "model.train(train_x, train_y)\n",
    "rmse_train = torch.sqrt(torch.nn.MSELoss()(model.predict(train_x), train_y))\n",
    "rmse_test = torch.sqrt(torch.nn.MSELoss()(model.predict(test_x), test_y))\n",
    "print('RMSE is %g' % rmse_train)\n",
    "print('RMSE is %g' % rmse_test)\n",
    "model.validate(test_x, test_y, n_samples = 100)"
   ]
  },
  {
   "cell_type": "code",
   "execution_count": 27,
   "metadata": {},
   "outputs": [
    {
     "data": {
      "text/plain": [
       "[<matplotlib.lines.Line2D at 0x7f51e402d0b8>]"
      ]
     },
     "execution_count": 27,
     "metadata": {},
     "output_type": "execute_result"
    },
    {
     "data": {
      "image/png": "[encoded data removed]",
      "text/plain": [
       "<Figure size 432x288 with 1 Axes>"
      ]
     },
     "metadata": {},
     "output_type": "display_data"
    }
   ],
   "source": [
    "plt.plot(model.rec_losses)"
   ]
  },
  {
   "cell_type": "code",
   "execution_count": 19,
   "metadata": {},
   "outputs": [
    {
     "data": {
      "text/plain": [
       "(5.067245367664213, 3.411133408755254)"
      ]
     },
     "execution_count": 19,
     "metadata": {},
     "output_type": "execute_result"
    }
   ],
   "source": [
    "model.validate(test_x, test_y)"
   ]
  },
  {
   "cell_type": "code",
   "execution_count": 16,
   "metadata": {},
   "outputs": [
    {
     "data": {
      "text/plain": [
       "[<matplotlib.lines.Line2D at 0x7f51e41c56a0>]"
      ]
     },
     "execution_count": 16,
     "metadata": {},
     "output_type": "execute_result"
    },
    {
     "data": {
      "image/png": "[encoded data removed]",
      "text/plain": [
       "<Figure size 432x288 with 1 Axes>"
      ]
     },
     "metadata": {},
     "output_type": "display_data"
    }
   ],
   "source": [
    "plt.plot(test_y.numpy(), m.detach().numpy(), '+')"
   ]
  },
  {
   "cell_type": "code",
   "execution_count": 17,
   "metadata": {},
   "outputs": [],
   "source": [
    "py = model.predict(test_x)"
   ]
  },
  {
   "cell_type": "code",
   "execution_count": 18,
   "metadata": {},
   "outputs": [
    {
     "data": {
      "text/plain": [
       "[<matplotlib.lines.Line2D at 0x7f51e412f1d0>]"
      ]
     },
     "execution_count": 18,
     "metadata": {},
     "output_type": "execute_result"
    },
    {
     "data": {
      "image/png": "[encoded data removed]",
      "text/plain": [
       "<Figure size 432x288 with 1 Axes>"
      ]
     },
     "metadata": {},
     "output_type": "display_data"
    }
   ],
   "source": [
    "plt.plot(m.detach().numpy(), py.detach().numpy(), '+')"
   ]
  },
  {
   "cell_type": "code",
   "execution_count": null,
   "metadata": {},
   "outputs": [],
   "source": []
  },
  {
   "cell_type": "code",
   "execution_count": null,
   "metadata": {},
   "outputs": [],
   "source": []
  }
 ],
 "metadata": {
  "kernelspec": {
   "display_name": "Python 3",
   "language": "python",
   "name": "python3"
  },
  "language_info": {
   "codemirror_mode": {
    "name": "ipython",
    "version": 3
   },
   "file_extension": ".py",
   "mimetype": "text/x-python",
   "name": "python",
   "nbconvert_exporter": "python",
   "pygments_lexer": "ipython3",
   "version": "3.6.5"
  }
 },
 "nbformat": 4,
 "nbformat_minor": 2
}
