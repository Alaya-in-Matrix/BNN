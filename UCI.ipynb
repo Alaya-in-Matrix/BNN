{
 "cells": [
  {
   "cell_type": "code",
   "execution_count": 1,
   "metadata": {},
   "outputs": [
    {
     "name": "stderr",
     "output_type": "stream",
     "text": [
      " /home/alaya/anaconda3/lib/python3.6/site-packages/h5py/__init__.py:36: FutureWarning:Conversion of the second argument of issubdtype from `float` to `np.floating` is deprecated. In future, it will be treated as `np.float64 == np.dtype(float).type`.\n",
      "Using TensorFlow backend.\n"
     ]
    }
   ],
   "source": [
    "import torch\n",
    "import torch.nn as nn\n",
    "import numpy as np\n",
    "import GPy\n",
    "import matplotlib.pyplot as plt\n",
    "from BNN_Dropout import BNN_Dropout\n",
    "from pybnn import bohamiann\n",
    "from torch.utils.data import TensorDataset, DataLoader\n",
    "\n",
    "import sys\n",
    "sys.path.insert(0, './ref/DropoutUncertaintyExps/net/')\n",
    "from net import net"
   ]
  },
  {
   "cell_type": "code",
   "execution_count": 2,
   "metadata": {},
   "outputs": [],
   "source": [
    "dataset_name = 'concrete'\n",
    "dataset_dir      = 'UCI_Datasets/' + dataset_name + \"/data/\"\n",
    "data = torch.FloatTensor(np.loadtxt(dataset_dir + \"data.txt\"))\n",
    "\n",
    "feature_id = np.loadtxt(dataset_dir + \"index_features.txt\", dtype=int)\n",
    "target_id   = np.loadtxt(dataset_dir + \"index_target.txt\", dtype = int)\n",
    "\n",
    "xs = data[:,feature_id]\n",
    "ys = data[:,target_id][:,None]\n",
    "\n",
    "split_id = 19\n",
    "\n",
    "train_id = np.loadtxt(dataset_dir + \"index_train_{}\".format(split_id) + \".txt\", dtype = int)\n",
    "test_id = np.loadtxt(dataset_dir + \"index_test_{}\".format(split_id) + \".txt\", dtype = int)\n",
    "\n",
    "train_x = xs[train_id]\n",
    "train_y = ys[train_id]\n",
    "test_x   = xs[test_id]\n",
    "test_y   = ys[test_id]\n",
    "\n",
    "dim = train_x.shape[1]\n",
    "\n",
    "normalize = True\n",
    "if normalize:\n",
    "    x_mean = train_x.mean(dim = 0)\n",
    "    x_std     = train_x.std(dim = 0)\n",
    "    train_x   = (train_x - x_mean) / x_std\n",
    "    test_x     = (test_x  - x_mean) / x_std"
   ]
  },
  {
   "cell_type": "code",
   "execution_count": 3,
   "metadata": {},
   "outputs": [
    {
     "name": "stdout",
     "output_type": "stream",
     "text": [
      "WARNING:tensorflow:From /home/alaya/anaconda3/lib/python3.6/site-packages/keras/backend/tensorflow_backend.py:3445: calling dropout (from tensorflow.python.ops.nn_ops) with keep_prob is deprecated and will be removed in a future version.\n",
      "Instructions for updating:\n",
      "Please use `rate` instead of `keep_prob`. Rate should be set to `rate = 1 - keep_prob`.\n",
      "WARNING:tensorflow:From /home/alaya/anaconda3/lib/python3.6/site-packages/tensorflow/python/framework/op_def_library.py:263: colocate_with (from tensorflow.python.framework.ops) is deprecated and will be removed in a future version.\n",
      "Instructions for updating:\n",
      "Colocations handled automatically by placer.\n",
      "WARNING:tensorflow:From /home/alaya/anaconda3/lib/python3.6/site-packages/tensorflow/python/ops/math_ops.py:3066: to_int32 (from tensorflow.python.ops.math_ops) is deprecated and will be removed in a future version.\n",
      "Instructions for updating:\n",
      "Use tf.cast instead.\n"
     ]
    }
   ],
   "source": [
    "train_x = train_x.numpy()\n",
    "train_y = train_y.numpy().reshape(train_y.numel())\n",
    "test_x = test_x.numpy()\n",
    "test_y = test_y.numpy().reshape(test_y.numel())\n",
    "\n",
    "origin_model = net(\n",
    "    train_x,\n",
    "    train_y, \n",
    "    n_hidden=[50],\n",
    "    n_epochs = 400, \n",
    "    normalize = True, \n",
    "    tau = 0.075, \n",
    "    dropout = 0.05)"
   ]
  },
  {
   "cell_type": "code",
   "execution_count": 4,
   "metadata": {},
   "outputs": [
    {
     "name": "stdout",
     "output_type": "stream",
     "text": [
      "\r",
      "103/103 [==============================] - 0s 316us/step\n"
     ]
    }
   ],
   "source": [
    "_,rmse,ll, new_ll = origin_model.predict(test_x, test_y)\n",
    "test_y = test_y.reshape(test_y.size,1)\n",
    "from scipy.misc import logsumexp\n"
   ]
  },
  {
   "cell_type": "code",
   "execution_count": 6,
   "metadata": {},
   "outputs": [
    {
     "data": {
      "text/plain": [
       "(-3.174609, -3.2532205142442723)"
      ]
     },
     "execution_count": 6,
     "metadata": {},
     "output_type": "execute_result"
    }
   ],
   "source": [
    "(ll, new_ll)"
   ]
  },
  {
   "cell_type": "code",
   "execution_count": 22,
   "metadata": {},
   "outputs": [],
   "source": [
    "norm.logpdf"
   ]
  },
  {
   "cell_type": "code",
   "execution_count": 24,
   "metadata": {},
   "outputs": [
    {
     "data": {
      "text/plain": [
       "(103, 1)"
      ]
     },
     "execution_count": 24,
     "metadata": {},
     "output_type": "execute_result"
    }
   ],
   "source": [
    "v.shape"
   ]
  },
  {
   "cell_type": "code",
   "execution_count": null,
   "metadata": {},
   "outputs": [],
   "source": []
  }
 ],
 "metadata": {
  "kernelspec": {
   "display_name": "Python 3",
   "language": "python",
   "name": "python3"
  },
  "language_info": {
   "codemirror_mode": {
    "name": "ipython",
    "version": 3
   },
   "file_extension": ".py",
   "mimetype": "text/x-python",
   "name": "python",
   "nbconvert_exporter": "python",
   "pygments_lexer": "ipython3",
   "version": "3.6.5"
  }
 },
 "nbformat": 4,
 "nbformat_minor": 2
}
