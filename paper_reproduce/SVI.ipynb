{
 "cells": [
  {
   "cell_type": "code",
   "execution_count": 64,
   "metadata": {},
   "outputs": [],
   "source": [
    "%reload_ext autoreload\n",
    "%autoreload 2\n",
    "import os,sys\n",
    "sys.path.append('..')\n",
    "import numpy as np\n",
    "import torch\n",
    "import torch.nn as nn\n",
    "import torch.nn.functional as F\n",
    "from BNN_SVI import BNN_SVI\n",
    "import matplotlib.pyplot as plt\n",
    "import pickle"
   ]
  },
  {
   "cell_type": "code",
   "execution_count": 65,
   "metadata": {},
   "outputs": [],
   "source": [
    " def get_data(dataset, split_id):\n",
    "    ds_prefix = '../UCI_Datasets/'\n",
    "    data = np.loadtxt('../UCI_Datasets/' + dataset + \"/data/data.txt\")\n",
    "    xs = data[:,:-1]\n",
    "    ys = data[:,-1]\n",
    "    n_splits = np.loadtxt('../UCI_Datasets/' + dataset + \"/data/n_splits.txt\", dtype = np.int64)\n",
    "    if split_id >= n_splits:\n",
    "        train_x = None\n",
    "        train_y = None\n",
    "        test_x  = None\n",
    "        test_y = None\n",
    "        tau = None\n",
    "        n_hidden = None\n",
    "        n_epochs = None\n",
    "    else:\n",
    "        train_id = np.loadtxt('../UCI_Datasets/' + dataset + \"/data/index_train_\" + str(split_id) + \".txt\", dtype = np.int64)\n",
    "        test_id = np.loadtxt('../UCI_Datasets/' + dataset + \"/data/index_test_\" + str(split_id) + \".txt\", dtype = np.int64)\n",
    "        tau      = np.loadtxt('../UCI_Datasets/' + dataset + \"/results/test_tau_100_xepochs_1_hidden_layers.txt\")[split_id]\n",
    "        n_hidden = np.loadtxt('../UCI_Datasets/' + dataset + \"/data/n_hidden.txt\", dtype = np.int64)\n",
    "        n_epochs = np.loadtxt('../UCI_Datasets/' + dataset + \"/data/n_epochs.txt\", dtype = np.int64)\n",
    "\n",
    "        train_x = xs[train_id]\n",
    "        train_y = ys[train_id]\n",
    "        test_x = xs[test_id]\n",
    "        test_y = ys[test_id]\n",
    "    return train_x, train_y, test_x, test_y,tau,n_hidden, n_splits, n_epochs"
   ]
  },
  {
   "cell_type": "code",
   "execution_count": 71,
   "metadata": {},
   "outputs": [],
   "source": [
    " def uci(dataset, split_id):\n",
    "    train_x, train_y, test_x, test_y,tau, n_hiddens, n_splits, n_epochs = get_data(dataset, split_id)\n",
    "    if(split_id >= n_splits):\n",
    "        print(\"Invalid split_id\")\n",
    "        return np.nan, np.nan, np.nan, np.nan\n",
    "    print('Dataset %s, split: %d' % (dataset, split_id))\n",
    "    print('Model precision: %g' % tau)\n",
    "    print('n_hiddens:%d' % n_hiddens)\n",
    "\n",
    "    conf = dict()\n",
    "    conf['num_iters'] = 50*n_epochs * (1+int(train_x.shape[0] / 128))    \n",
    "    conf['noise_level'] = 1/np.sqrt(tau)\n",
    "    model = BNN_SVI(train_x.shape[1], num_hiddens = [n_hiddens], conf = conf)\n",
    "    model.train(torch.FloatTensor(train_x), torch.FloatTensor(train_y))\n",
    "    rmse, nll_gaussian,nll = model.validate(torch.FloatTensor(test_x), torch.FloatTensor(test_y), num_samples=1000)\n",
    "    print('RMSE = %g, NLL_gaussian = %6.3f, NLL = %6.3f' % (rmse, nll_gaussian, nll))\n",
    "    return rmse, nll_gaussian, nll"
   ]
  },
  {
   "cell_type": "code",
   "execution_count": null,
   "metadata": {},
   "outputs": [],
   "source": [
    "ds = [\n",
    "    'bostonHousing'\n",
    ", 'concrete'\n",
    ", 'energy'\n",
    ", 'kin8nm'\n",
    ", 'naval-propulsion-plant'\n",
    ", 'power-plant'\n",
    ", 'protein-tertiary-structure'\n",
    ", 'wine-quality-red'\n",
    ", 'yacht'\n",
    "\n",
    "]\n",
    "stat = dict()\n",
    "for d in ds:\n",
    "    stat[d] = []\n",
    "    for split_id in range(20):\n",
    "        stat[d].append(uci(d,split_id))   \n",
    "        f = open(\"stat_pyro_svi.pkl\",\"wb\")\n",
    "        pickle.dump(stat,f)\n",
    "        f.close()"
   ]
  }
 ],
 "metadata": {
  "kernelspec": {
   "display_name": "Python 3",
   "language": "python",
   "name": "python3"
  },
  "language_info": {
   "codemirror_mode": {
    "name": "ipython",
    "version": 3
   },
   "file_extension": ".py",
   "mimetype": "text/x-python",
   "name": "python",
   "nbconvert_exporter": "python",
   "pygments_lexer": "ipython3",
   "version": "3.6.5"
  }
 },
 "nbformat": 4,
 "nbformat_minor": 2
}
