{
 "cells": [
  {
   "cell_type": "code",
   "execution_count": 1,
   "metadata": {},
   "outputs": [],
   "source": [
    "import torch\n",
    "import torch.nn as nn\n",
    "import numpy as np\n",
    "import matplotlib.pyplot as plt\n",
    "from BNN_SVI import BNN_SVI\n",
    "import pyro\n",
    "\n",
    "dataset_name = 'concrete'\n",
    "dataset_dir  = 'UCI_Datasets/' + dataset_name + \"/data/\"\n",
    "data         = np.loadtxt(dataset_dir + \"data.txt\")\n",
    "feature_id   = np.loadtxt(dataset_dir + \"index_features.txt\", dtype=int)\n",
    "target_id    = np.loadtxt(dataset_dir + \"index_target.txt\", dtype = int)\n",
    "xs           = data[:,feature_id]\n",
    "ys           = data[:,target_id][:,None]\n",
    "\n",
    "split_id = 4\n",
    "train_id = np.loadtxt(dataset_dir + \"index_train_{}\".format(split_id) + \".txt\", dtype = int)\n",
    "test_id  = np.loadtxt(dataset_dir + \"index_test_{}\".format(split_id) + \".txt\", dtype = int)\n",
    "\n",
    "train_x = xs[train_id]\n",
    "train_y = ys[train_id]\n",
    "test_x  = xs[test_id]\n",
    "test_y  = ys[test_id]\n",
    "dim     = train_x.shape[1]\n",
    "\n",
    "train_x = torch.FloatTensor(train_x)\n",
    "train_y = torch.FloatTensor(train_y)\n",
    "test_x  = torch.FloatTensor(test_x)\n",
    "test_y  = torch.FloatTensor(test_y)\n",
    "\n",
    "#pyro.enable_validation(True)\n"
   ]
  },
  {
   "cell_type": "code",
   "execution_count": 2,
   "metadata": {},
   "outputs": [],
   "source": [
    "conf    = dict()\n",
    "conf['batch_size'] = 256\n",
    "conf['lr'] = 1e-2\n",
    "conf['weight_prior'] = 1\n",
    "conf['bias_prior'] = 1\n",
    "conf['prec_alpha'] = 50\n",
    "conf['prec_beta']   = 10\n",
    "conf['print_every'] = 1\n",
    "conf['num_layers'] = 3\n",
    "conf['num_iters'] = 2000\n",
    "conf['print_every'] = 50\n",
    "model = BNN_SVI(dim = dim, act = nn.Tanh(), conf = conf)\n"
   ]
  },
  {
   "cell_type": "code",
   "execution_count": 3,
   "metadata": {},
   "outputs": [
    {
     "name": "stdout",
     "output_type": "stream",
     "text": [
      "[Iteration 00001] loss: 2808.1613\n",
      "[Iteration 00051] loss: 3765.7345\n",
      "[Iteration 00101] loss: 1894.0032\n",
      "[Iteration 00151] loss: 919.9621\n",
      "[Iteration 00201] loss: 1411.5602\n",
      "[Iteration 00251] loss: 588.9400\n",
      "[Iteration 00301] loss: 823.3557\n",
      "[Iteration 00351] loss: 282.5924\n",
      "[Iteration 00401] loss: 372.6004\n",
      "[Iteration 00451] loss: 318.8441\n",
      "[Iteration 00501] loss: 327.4979\n",
      "[Iteration 00551] loss: 266.2891\n",
      "[Iteration 00601] loss: 138.6727\n",
      "[Iteration 00651] loss: 142.8805\n",
      "[Iteration 00701] loss: 108.9024\n",
      "[Iteration 00751] loss: 150.8670\n",
      "[Iteration 00801] loss: 257.8754\n",
      "[Iteration 00851] loss: 116.5925\n",
      "[Iteration 00901] loss: 130.7874\n",
      "[Iteration 00951] loss: 98.6617\n",
      "[Iteration 01001] loss: 83.4380\n",
      "[Iteration 01051] loss: 143.9066\n",
      "[Iteration 01101] loss: 159.5705\n",
      "[Iteration 01151] loss: 174.0644\n",
      "[Iteration 01201] loss: 92.7317\n",
      "[Iteration 01251] loss: 73.9505\n",
      "[Iteration 01301] loss: 208.1092\n",
      "[Iteration 01351] loss: 65.2759\n",
      "[Iteration 01401] loss: 109.6923\n",
      "[Iteration 01451] loss: 53.3013\n",
      "[Iteration 01501] loss: 68.7846\n",
      "[Iteration 01551] loss: 78.2929\n",
      "[Iteration 01601] loss: 94.9579\n",
      "[Iteration 01651] loss: 55.3561\n",
      "[Iteration 01701] loss: 79.4590\n",
      "[Iteration 01751] loss: 46.6470\n",
      "[Iteration 01801] loss: 82.8478\n",
      "[Iteration 01851] loss: 65.4776\n",
      "[Iteration 01901] loss: 50.8795\n",
      "[Iteration 01951] loss: 48.9833\n",
      "RMSE on test data: 15.5598\n"
     ]
    },
    {
     "data": {
      "text/plain": [
       "[<matplotlib.lines.Line2D at 0x7f6ea077a5f8>]"
      ]
     },
     "execution_count": 3,
     "metadata": {},
     "output_type": "execute_result"
    },
    {
     "data": {
      "image/png": "[encoded data removed]",
      "text/plain": [
       "<Figure size 432x288 with 1 Axes>"
      ]
     },
     "metadata": {},
     "output_type": "display_data"
    }
   ],
   "source": [
    "model.train(train_x, train_y)\n",
    "r_net = model.sample()\n",
    "py =model.sample_predict(r_net, test_x)\n",
    "rmse = torch.sqrt(nn.MSELoss()(py, test_y))\n",
    "print('RMSE on test data: %g' % rmse)\n",
    "plt.plot(test_y.numpy(), py.detach().numpy(), '+')"
   ]
  },
  {
   "cell_type": "code",
   "execution_count": 4,
   "metadata": {},
   "outputs": [
    {
     "data": {
      "text/plain": [
       "[<matplotlib.lines.Line2D at 0x7f6ea06e4dd8>]"
      ]
     },
     "execution_count": 4,
     "metadata": {},
     "output_type": "execute_result"
    },
    {
     "data": {
      "image/png": "[encoded data removed]",
      "text/plain": [
       "<Figure size 432x288 with 1 Axes>"
      ]
     },
     "metadata": {},
     "output_type": "display_data"
    }
   ],
   "source": [
    "plt.semilogy(model.rec)"
   ]
  },
  {
   "cell_type": "code",
   "execution_count": 23,
   "metadata": {},
   "outputs": [
    {
     "name": "stdout",
     "output_type": "stream",
     "text": [
      "Help on class SVI in module pyro.infer.svi:\n",
      "\n",
      "class SVI(pyro.infer.abstract_infer.TracePosterior)\n",
      " |  :param model: the model (callable containing Pyro primitives)\n",
      " |  :param guide: the guide (callable containing Pyro primitives)\n",
      " |  :param optim: a wrapper a for a PyTorch optimizer\n",
      " |  :type optim: pyro.optim.PyroOptim\n",
      " |  :param loss: an instance of a subclass of :class:`~pyro.infer.elbo.ELBO`.\n",
      " |      Pyro provides three built-in losses:\n",
      " |      :class:`~pyro.infer.trace_elbo.Trace_ELBO`,\n",
      " |      :class:`~pyro.infer.tracegraph_elbo.TraceGraph_ELBO`, and\n",
      " |      :class:`~pyro.infer.traceenum_elbo.TraceEnum_ELBO`.\n",
      " |      See the :class:`~pyro.infer.elbo.ELBO` docs to learn how to implement\n",
      " |      a custom loss.\n",
      " |  :type loss: pyro.infer.elbo.ELBO\n",
      " |  :param num_samples: the number of samples for Monte Carlo posterior approximation\n",
      " |  :param num_steps: the number of optimization steps to take in ``run()``\n",
      " |  \n",
      " |  A unified interface for stochastic variational inference in Pyro. The most\n",
      " |  commonly used loss is ``loss=Trace_ELBO()``. See the tutorial\n",
      " |  `SVI Part I <http://pyro.ai/examples/svi_part_i.html>`_ for a discussion.\n",
      " |  \n",
      " |  Method resolution order:\n",
      " |      SVI\n",
      " |      pyro.infer.abstract_infer.TracePosterior\n",
      " |      builtins.object\n",
      " |  \n",
      " |  Methods defined here:\n",
      " |  \n",
      " |  __init__(self, model, guide, optim, loss, loss_and_grads=None, num_samples=10, num_steps=0, **kwargs)\n",
      " |      Initialize self.  See help(type(self)) for accurate signature.\n",
      " |  \n",
      " |  evaluate_loss(self, *args, **kwargs)\n",
      " |      :returns: estimate of the loss\n",
      " |      :rtype: float\n",
      " |      \n",
      " |      Evaluate the loss function. Any args or kwargs are passed to the model and guide.\n",
      " |  \n",
      " |  run(self, *args, **kwargs)\n",
      " |      Calls `self._traces` to populate execution traces from a stochastic\n",
      " |      Pyro model.\n",
      " |      \n",
      " |      :param args: optional args taken by `self._traces`.\n",
      " |      :param kwargs: optional keywords args taken by `self._traces`.\n",
      " |  \n",
      " |  step(self, *args, **kwargs)\n",
      " |      :returns: estimate of the loss\n",
      " |      :rtype: float\n",
      " |      \n",
      " |      Take a gradient step on the loss function (and any auxiliary loss functions\n",
      " |      generated under the hood by `loss_and_grads`).\n",
      " |      Any args or kwargs are passed to the model and guide\n",
      " |  \n",
      " |  ----------------------------------------------------------------------\n",
      " |  Data and other attributes defined here:\n",
      " |  \n",
      " |  __abstractmethods__ = frozenset()\n",
      " |  \n",
      " |  ----------------------------------------------------------------------\n",
      " |  Methods inherited from pyro.infer.abstract_infer.TracePosterior:\n",
      " |  \n",
      " |  __call__(self, *args, **kwargs)\n",
      " |      Call self as a function.\n",
      " |  \n",
      " |  information_criterion(self, pointwise=False)\n",
      " |      Computes information criterion of the model. Currently, returns only \"Widely\n",
      " |      Applicable/Watanabe-Akaike Information Criterion\" (WAIC) and the corresponding\n",
      " |      effective number of parameters.\n",
      " |      \n",
      " |      Reference:\n",
      " |      \n",
      " |      [1] `Practical Bayesian model evaluation using leave-one-out cross-validation and WAIC`,\n",
      " |      Aki Vehtari, Andrew Gelman, and Jonah Gabry\n",
      " |      \n",
      " |      :param bool pointwise: a flag to decide if we want to get a vectorized WAIC or not. When\n",
      " |          ``pointwise=False``, returns the sum.\n",
      " |      :returns OrderedDict: a dictionary containing values of WAIC and its effective number of\n",
      " |          parameters.\n",
      " |  \n",
      " |  marginal(self, sites=None)\n",
      " |  \n",
      " |  ----------------------------------------------------------------------\n",
      " |  Data descriptors inherited from pyro.infer.abstract_infer.TracePosterior:\n",
      " |  \n",
      " |  __dict__\n",
      " |      dictionary for instance variables (if defined)\n",
      " |  \n",
      " |  __weakref__\n",
      " |      list of weak references to the object (if defined)\n",
      "\n"
     ]
    }
   ],
   "source": [
    "help(pyro.infer.SVI)"
   ]
  },
  {
   "cell_type": "code",
   "execution_count": 7,
   "metadata": {},
   "outputs": [
    {
     "data": {
      "text/plain": [
       "tensor(43.8200, grad_fn=<SqrtBackward>)"
      ]
     },
     "execution_count": 7,
     "metadata": {},
     "output_type": "execute_result"
    }
   ],
   "source": []
  },
  {
   "cell_type": "code",
   "execution_count": 18,
   "metadata": {},
   "outputs": [
    {
     "data": {
      "text/plain": [
       "(array([9.939e+03, 4.500e+01, 1.000e+01, 5.000e+00, 0.000e+00, 0.000e+00,\n",
       "        0.000e+00, 0.000e+00, 0.000e+00, 1.000e+00]),\n",
       " array([  1.5044632 ,  44.11362381,  86.72278442, 129.33194504,\n",
       "        171.94110565, 214.55026627, 257.15942688, 299.76858749,\n",
       "        342.37774811, 384.98690872, 427.59606934]),\n",
       " <a list of 10 Patch objects>)"
      ]
     },
     "execution_count": 18,
     "metadata": {},
     "output_type": "execute_result"
    },
    {
     "data": {
      "image/png": "[encoded data removed]",
      "text/plain": [
       "<Figure size 432x288 with 1 Axes>"
      ]
     },
     "metadata": {},
     "output_type": "display_data"
    }
   ],
   "source": [
    "alpha = pyro.param(\"alpha\")\n",
    "beta   = pyro.param(\"beta\")\n",
    "prec_dist = pyro.distributions.Gamma(alpha, beta)\n",
    "prec_samples = prec_dist.sample((10000,))\n",
    "var_samples = 1/prec_samples\n",
    "std_samples = var_samples.sqrt()\n",
    "plt.hist(std_samples.numpy())"
   ]
  },
  {
   "cell_type": "code",
   "execution_count": 19,
   "metadata": {},
   "outputs": [
    {
     "data": {
      "text/plain": [
       "tensor(1.0949, grad_fn=<AddBackward0>)"
      ]
     },
     "execution_count": 19,
     "metadata": {},
     "output_type": "execute_result"
    }
   ],
   "source": [
    "alpha"
   ]
  },
  {
   "cell_type": "code",
   "execution_count": 20,
   "metadata": {},
   "outputs": [
    {
     "data": {
      "text/plain": [
       "tensor(21.0269, grad_fn=<AddBackward0>)"
      ]
     },
     "execution_count": 20,
     "metadata": {},
     "output_type": "execute_result"
    }
   ],
   "source": [
    "beta"
   ]
  },
  {
   "cell_type": "code",
   "execution_count": 22,
   "metadata": {},
   "outputs": [
    {
     "data": {
      "text/plain": [
       "tensor(78.3262)"
      ]
     },
     "execution_count": 22,
     "metadata": {},
     "output_type": "execute_result"
    }
   ],
   "source": [
    "std_samples.var()"
   ]
  },
  {
   "cell_type": "code",
   "execution_count": null,
   "metadata": {},
   "outputs": [],
   "source": []
  }
 ],
 "metadata": {
  "kernelspec": {
   "display_name": "Python 3",
   "language": "python",
   "name": "python3"
  },
  "language_info": {
   "codemirror_mode": {
    "name": "ipython",
    "version": 3
   },
   "file_extension": ".py",
   "mimetype": "text/x-python",
   "name": "python",
   "nbconvert_exporter": "python",
   "pygments_lexer": "ipython3",
   "version": "3.6.5"
  }
 },
 "nbformat": 4,
 "nbformat_minor": 2
}
